{
 "cells": [
  {
   "cell_type": "code",
   "execution_count": 1,
   "id": "93345efd",
   "metadata": {},
   "outputs": [
    {
     "name": "stdout",
     "output_type": "stream",
     "text": [
      "{'person': [{'city': None, 'first_name': 'Schmidt', 'name': 'Schmidt'}, {'city': None, 'first_name': 'A. Elmar', 'name': 'Schmidt'}, {'city': None, 'first_name': 'A.', 'name': 'Schmidt'}, {'city': 'Velbert', 'first_name': 'A.', 'name': 'Schmidt'}, {'city': None, 'first_name': 'A.', 'name': 'Schmidt-Burbach'}, {'city': None, 'first_name': 'A.', 'name': 'Schmidt-Ewald'}, {'city': 'Minden', 'first_name': 'A.F.', 'name': 'Schmidt'}, {'city': 'Stendal', 'first_name': 'Aaron', 'name': 'Schmidtmann'}, {'city': 'Wörth', 'first_name': 'Achim Eugen', 'name': 'Schmidt'}, {'city': 'Rellingen', 'first_name': 'Achim Franz Eckhard', 'name': 'Schmidt'}, {'city': None, 'first_name': 'Achim Josef', 'name': 'Schmidt'}, {'city': 'Brechen', 'first_name': 'Achim Josef', 'name': 'Schmidt'}, {'city': 'Steinberg', 'first_name': 'Achim', 'name': 'Schmidt'}, {'city': None, 'first_name': 'Achim', 'name': 'Schmidt'}, {'city': None, 'first_name': 'Achim', 'name': 'Schmidt'}, {'city': 'Diplom-Landwirt', 'first_name': 'Achim', 'name': 'Schmidt'}, {'city': 'Rheinstetten', 'first_name': 'Achim', 'name': 'Schmidt'}, {'city': 'Herrenhof', 'first_name': 'Achim', 'name': 'Schmidt'}, {'city': None, 'first_name': 'Achim', 'name': 'Schmidt'}, {'city': 'Hartmut Hastert', 'first_name': 'Achim', 'name': 'Schmidt'}, {'city': 'Hamburg', 'first_name': 'Achim', 'name': 'Schmidt'}, {'city': 'München', 'first_name': 'Achim', 'name': 'Schmidt'}, {'city': None, 'first_name': 'Achim', 'name': 'Schmidt'}, {'city': None, 'first_name': 'Achim', 'name': 'Schmidt'}, {'city': 'Oftersheim', 'first_name': 'Achim', 'name': 'Schmidt'}, {'city': 'Mainz', 'first_name': 'Achim', 'name': 'Schmidt'}, {'city': 'Bad Vilbel', 'first_name': 'Achim', 'name': 'Schmidt'}, {'city': 'Kaarst', 'first_name': 'Achim', 'name': 'Schmidt'}, {'city': 'Brechen', 'first_name': 'Achim', 'name': 'Schmidt'}, {'city': 'Kelkheim (Taunus)', 'first_name': 'Achim', 'name': 'Schmidt'}, {'city': 'Forbach', 'first_name': 'Achim', 'name': 'Schmidt'}, {'city': 'Finsterwalde', 'first_name': 'Achim', 'name': 'Schmidt'}, {'city': None, 'first_name': 'Achim', 'name': 'Schmidt'}, {'city': None, 'first_name': 'Achim', 'name': 'Schmidt'}, {'city': 'Dinslaken', 'first_name': 'Achim', 'name': 'Schmidt'}, {'city': 'Oberelbert', 'first_name': 'Achim', 'name': 'Schmidt'}, {'city': 'Neuwied', 'first_name': 'Achim', 'name': 'Schmidt'}, {'city': None, 'first_name': 'Achim', 'name': 'Schmidt'}, {'city': 'Bernburg', 'first_name': 'Achim', 'name': 'Schmidt'}, {'city': 'Albrechts', 'first_name': 'Achim', 'name': 'Schmidt'}, {'city': 'Bühl', 'first_name': 'Achim', 'name': 'Schmidt'}, {'city': None, 'first_name': 'Achim', 'name': 'Schmidt'}, {'city': 'Mühlhausen', 'first_name': 'Achim', 'name': 'Schmidt'}, {'city': 'Sulzbach', 'first_name': 'Achim', 'name': 'Schmidt'}, {'city': None, 'first_name': 'Achim', 'name': 'Schmidt'}, {'city': 'Illingen', 'first_name': 'Achim', 'name': 'Schmidt'}, {'city': None, 'first_name': 'Achim', 'name': 'Schmidt'}, {'city': 'Putlitz', 'first_name': 'Achim', 'name': 'Schmidt'}, {'city': 'Gudensberg', 'first_name': 'Achim', 'name': 'Schmidt'}, {'city': 'Geschäftsführer in Seßlach', 'first_name': 'Achim', 'name': 'Schmidt'}]}\n"
     ]
    }
   ],
   "source": [
    "import asyncio\n",
    "\n",
    "from gql import Client, gql\n",
    "from gql.transport.aiohttp import AIOHTTPTransport\n",
    "\n",
    "\n",
    "async def main():\n",
    "    url='https://www.companyhouse.de/api/v1/person'\n",
    "    ACCESTOKEN='068f8755da8047c0058bdea1c6e0bea1'\n",
    "    transport = AIOHTTPTransport(url=url, headers={'Authorization': 'Bearer '+ ACCESTOKEN})\n",
    "\n",
    "\n",
    "    # Using `async with` on the client will start a connection on the transport\n",
    "    # and provide a `session` variable to execute queries on this connection\n",
    "    async with Client(\n",
    "        transport=transport, fetch_schema_from_transport=True,\n",
    "    ) as session:\n",
    "\n",
    "        # Execute single query\n",
    "        query = gql(\n",
    "           \"\"\"\n",
    "{\n",
    "    person (query:\\\"Schmidt\\\")\n",
    "    {\n",
    "        city\n",
    "        first_name\n",
    "        name    \n",
    "    }\n",
    "}\n",
    "\"\"\")\n",
    "\n",
    "        result = await session.execute(query)\n",
    "        print(result)\n",
    "\n",
    "#for python outside of jupyter use: asyncio.run(main())\n",
    "await main() "
   ]
  }
 ],
 "metadata": {
  "kernelspec": {
   "display_name": "Python 3",
   "language": "python",
   "name": "python3"
  },
  "language_info": {
   "codemirror_mode": {
    "name": "ipython",
    "version": 3
   },
   "file_extension": ".py",
   "mimetype": "text/x-python",
   "name": "python",
   "nbconvert_exporter": "python",
   "pygments_lexer": "ipython3",
   "version": "3.7.7"
  }
 },
 "nbformat": 4,
 "nbformat_minor": 5
}
