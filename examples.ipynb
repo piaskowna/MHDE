{
 "cells": [
  {
   "cell_type": "code",
   "execution_count": 161,
   "metadata": {},
   "outputs": [
    {
     "name": "stdout",
     "output_type": "stream",
     "text": [
      "b'{\"errors\":[{\"message\":\"Unknown argument \\\\\"name\\\\\" on field \\\\\"person\\\\\" of type \\\\\"personList\\\\\".\",\"extensions\":{\"category\":\"graphql\"},\"locations\":[{\"line\":3,\"column\":12}]},{\"message\":\"Cannot query field \\\\\"updated_at\\\\\" on type \\\\\"person\\\\\".\",\"extensions\":{\"category\":\"graphql\"},\"locations\":[{\"line\":16,\"column\":9}]}]}'\n"
     ]
    }
   ],
   "source": [
    "#test for CompanyHouseAPI\n",
    "#TODO: how to define query?\n",
    "import requests\n",
    "import json\n",
    "\n",
    "class BearerAuth(requests.auth.AuthBase):\n",
    "    def __init__(self, token):\n",
    "        self.token = token\n",
    "    def __call__(self, r):\n",
    "        r.headers[\"authorization\"] = \"Bearer \" + self.token\n",
    "        return r\n",
    "\n",
    "ACCESSTOKEN ='068f8755da8047c0058bdea1c6e0bea1'\n",
    "\n",
    "query = '''\n",
    "query {\n",
    "    person(name:String) {\n",
    "        first_name\n",
    "        name\n",
    "        family_name\n",
    "        birth_date\n",
    "        state\n",
    "        country\n",
    "        city\n",
    "        zip\n",
    "        street\n",
    "        scientific_title\n",
    "        status\n",
    "        occupation\n",
    "        updated_at\n",
    "        deceased_date\n",
    "        functions {\n",
    "          function_id\n",
    "          function_start_date\n",
    "          function_end_date\n",
    "          function_company_name\n",
    "        }\n",
    "        addresses {\n",
    "          country\n",
    "          city\n",
    "          zip\n",
    "          street\n",
    "        }\n",
    "    }\n",
    "}\n",
    "'''\n",
    "\n",
    "# Define our query variables and values that will be used in the query request\n",
    "variables = {\n",
    "    'name': 'Schmidt'\n",
    "}\n",
    "\n",
    "\n",
    "url = 'https://www.companyhouse.de/api/v1/person'\n",
    "\n",
    "response = requests.post('https://www.companyhouse.de/api/v1/person', auth=BearerAuth(ACCESSTOKEN),json={'query': query,'variables': variables})\n",
    "\n",
    "print(response.content)"
   ]
  },
  {
   "cell_type": "code",
   "execution_count": 162,
   "metadata": {},
   "outputs": [
    {
     "ename": "AttributeError",
     "evalue": "'Response' object has no attribute 'conte'",
     "output_type": "error",
     "traceback": [
      "\u001b[0;31m---------------------------------------------------------------------------\u001b[0m",
      "\u001b[0;31mAttributeError\u001b[0m                            Traceback (most recent call last)",
      "\u001b[0;32m<ipython-input-162-1c618eb98ab1>\u001b[0m in \u001b[0;36m<module>\u001b[0;34m\u001b[0m\n\u001b[1;32m     23\u001b[0m \u001b[0mresponse\u001b[0m \u001b[0;34m=\u001b[0m \u001b[0mrequests\u001b[0m\u001b[0;34m.\u001b[0m\u001b[0mpost\u001b[0m\u001b[0;34m(\u001b[0m\u001b[0murl\u001b[0m\u001b[0;34m,\u001b[0m \u001b[0mjson\u001b[0m\u001b[0;34m=\u001b[0m\u001b[0;34m{\u001b[0m\u001b[0;34m'query'\u001b[0m\u001b[0;34m:\u001b[0m \u001b[0mquery\u001b[0m\u001b[0;34m,\u001b[0m \u001b[0;34m'variables'\u001b[0m\u001b[0;34m:\u001b[0m \u001b[0mvariables\u001b[0m\u001b[0;34m}\u001b[0m\u001b[0;34m)\u001b[0m\u001b[0;34m\u001b[0m\u001b[0;34m\u001b[0m\u001b[0m\n\u001b[1;32m     24\u001b[0m \u001b[0;34m\u001b[0m\u001b[0m\n\u001b[0;32m---> 25\u001b[0;31m \u001b[0mprint\u001b[0m\u001b[0;34m(\u001b[0m\u001b[0mresponse\u001b[0m\u001b[0;34m.\u001b[0m\u001b[0mconte\u001b[0m\u001b[0;34m)\u001b[0m\u001b[0;34m\u001b[0m\u001b[0;34m\u001b[0m\u001b[0m\n\u001b[0m",
      "\u001b[0;31mAttributeError\u001b[0m: 'Response' object has no attribute 'conte'"
     ]
    }
   ],
   "source": [
    "#example\n",
    "query = '''\n",
    "query ($id: Int) { # Define which variables will be used in the query (id)\n",
    "  Media (id: $id, type: ANIME) { # Insert our variables into the query arguments (id) (type: ANIME is hard-coded in the query)\n",
    "    id\n",
    "    title {\n",
    "      romaji\n",
    "      english\n",
    "      native\n",
    "    }\n",
    "  }\n",
    "}\n",
    "'''\n",
    "\n",
    "# Define our query variables and values that will be used in the query request\n",
    "variables = {\n",
    "    'id': 15125\n",
    "}\n",
    "\n",
    "url = 'https://graphql.anilist.co'\n",
    "\n",
    "# Make the HTTP Api request\n",
    "response = requests.post(url, json={'query': query, 'variables': variables})\n",
    "\n",
    "print(response.conte)"
   ]
  }
 ],
 "metadata": {
  "kernelspec": {
   "display_name": "Python 3",
   "language": "python",
   "name": "python3"
  },
  "language_info": {
   "codemirror_mode": {
    "name": "ipython",
    "version": 3
   },
   "file_extension": ".py",
   "mimetype": "text/x-python",
   "name": "python",
   "nbconvert_exporter": "python",
   "pygments_lexer": "ipython3",
   "version": "3.7.6"
  }
 },
 "nbformat": 4,
 "nbformat_minor": 4
}
